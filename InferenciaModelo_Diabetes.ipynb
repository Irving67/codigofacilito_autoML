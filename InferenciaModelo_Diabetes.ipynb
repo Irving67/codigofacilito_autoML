{
  "cells": [
    {
      "cell_type": "code",
      "execution_count": 1,
      "metadata": {
        "gather": {
          "logged": 1715335011930
        },
        "jupyter": {
          "outputs_hidden": false,
          "source_hidden": false
        },
        "nteract": {
          "transient": {
            "deleting": false
          }
        }
      },
      "outputs": [],
      "source": [
        "# Declaración de librerías\n",
        "import urllib.request\n",
        "import json\n",
        "import os\n",
        "import ssl"
      ]
    },
    {
      "cell_type": "code",
      "execution_count": 2,
      "metadata": {
        "gather": {
          "logged": 1715335011982
        },
        "jupyter": {
          "outputs_hidden": false,
          "source_hidden": false
        },
        "nteract": {
          "transient": {
            "deleting": false
          }
        }
      },
      "outputs": [],
      "source": [
        "# Creamos la Data para hacer la inferencia:\n",
        "\n",
        "# Debería de ser diabético\n",
        "\"\"\"\n",
        "new_data = {\n",
        "    \"Embarazos\": 1,\n",
        "    \"Glucosa\": 110,\n",
        "    \"PresionDiastolica\": 80,\n",
        "    \"GrosorTriceps\": 25,\n",
        "    \"InsulinaSerica\": 310,\n",
        "    \"IMC\": 29.5,\n",
        "    \"PedigreeDiabetes\": 1.28,\n",
        "    \"Edad\": 43\n",
        "    }\n",
        "\"\"\"\n",
        "\n",
        "\n",
        "# NO Debería de ser diabético\n",
        "new_data = {\n",
        "    \"Embarazos\": 0,\n",
        "    \"Glucosa\": 171,\n",
        "    \"PresionDiastolica\": 80,\n",
        "    \"GrosorTriceps\": 34,\n",
        "    \"InsulinaSerica\": 23,\n",
        "    \"IMC\": 24.5,\n",
        "    \"PedigreeDiabetes\": 0.22,\n",
        "    \"Edad\": 21\n",
        "    }\n"
      ]
    },
    {
      "cell_type": "code",
      "execution_count": 3,
      "metadata": {
        "gather": {
          "logged": 1715335012043
        }
      },
      "outputs": [],
      "source": [
        "# Creamos la petición al endpoint\n",
        "\n",
        "data =  {\n",
        "  \"input_data\": {\n",
        "    \"columns\": [\n",
        "      \"PatientID\",\n",
        "      \"Pregnancies\",\n",
        "      \"PlasmaGlucose\",\n",
        "      \"DiastolicBloodPressure\",\n",
        "      \"TricepsThickness\",\n",
        "      \"SerumInsulin\",\n",
        "      \"BMI\",\n",
        "      \"DiabetesPedigree\",\n",
        "      \"Age\"\n",
        "    ],\n",
        "    \"index\": [0],\n",
        "    \"data\": [\n",
        "        [0,\n",
        "        new_data[\"Embarazos\"],\n",
        "        new_data[\"Glucosa\"],\n",
        "        new_data[\"PresionDiastolica\"],\n",
        "        new_data[\"GrosorTriceps\"],\n",
        "        new_data[\"InsulinaSerica\"],\n",
        "        new_data[\"IMC\"],\n",
        "        new_data[\"PedigreeDiabetes\"],\n",
        "        new_data[\"Edad\"]]\n",
        "    ]\n",
        "  }\n",
        "}\n",
        "\n",
        "body = str.encode(json.dumps(data))\n",
        "\n",
        "url = ''\n",
        "api_key = ''\n",
        "if not api_key:\n",
        "    raise Exception(\"A key should be provided to invoke the endpoint\")\n",
        "\n",
        "headers = {'Content-Type':'application/json', 'Authorization':('Bearer '+ api_key), 'azureml-model-deployment': 'best-model-diabetes-1' }\n",
        "\n",
        "req = urllib.request.Request(url, body, headers)"
      ]
    },
    {
      "cell_type": "code",
      "execution_count": 4,
      "metadata": {
        "gather": {
          "logged": 1715335012102
        },
        "jupyter": {
          "outputs_hidden": false,
          "source_hidden": false
        },
        "nteract": {
          "transient": {
            "deleting": false
          }
        }
      },
      "outputs": [
        {
          "name": "stdout",
          "output_type": "stream",
          "text": [
            "Con base en los siguientes datos:\n",
            "Embarazos: 0\n",
            "Glucosa: 171\n",
            "PresionDiastolica: 80\n",
            "GrosorTriceps: 34\n",
            "InsulinaSerica: 23\n",
            "IMC: 24.5\n",
            "PedigreeDiabetes: 0.22\n",
            "Edad: 21\n",
            "El diagnóstico es:\n",
            "No Diabetes\n"
          ]
        }
      ],
      "source": [
        "# Obtenemos la respuesta\n",
        "\n",
        "print(\"Con base en los siguientes datos:\")\n",
        "for element in new_data:\n",
        "    print(element + \":\", new_data[element])\n",
        "print(\"El diagnóstico es:\")\n",
        "\n",
        "try:\n",
        "    response = urllib.request.urlopen(req)\n",
        "    result = response.read()\n",
        "    result_decoded = result.decode('utf-8')[1]  # Decodifica de bytes a string\n",
        "    print(\"Diabetes\") if result_decoded == '1' else print(\"No Diabetes\")\n",
        "\n",
        "except urllib.error.HTTPError as error:\n",
        "    print(\"The request failed with status code: \" + str(error.code))\n",
        "    # Print the headers - they include the requert ID and the timestamp, which are useful for debugging the failure\n",
        "    print(error.info())\n",
        "    print(error.read().decode(\"utf8\", 'ignore'))"
      ]
    }
  ],
  "metadata": {
    "kernel_info": {
      "name": "python310-sdkv2"
    },
    "kernelspec": {
      "display_name": "Python 3.10 - SDK v2",
      "language": "python",
      "name": "python310-sdkv2"
    },
    "language_info": {
      "codemirror_mode": {
        "name": "ipython",
        "version": 3
      },
      "file_extension": ".py",
      "mimetype": "text/x-python",
      "name": "python",
      "nbconvert_exporter": "python",
      "pygments_lexer": "ipython3",
      "version": "3.10.11"
    },
    "microsoft": {
      "host": {
        "AzureML": {
          "notebookHasBeenCompleted": true
        }
      },
      "ms_spell_check": {
        "ms_spell_check_language": "en"
      }
    },
    "nteract": {
      "version": "nteract-front-end@1.0.0"
    }
  },
  "nbformat": 4,
  "nbformat_minor": 2
}
